{
 "cells": [
  {
   "cell_type": "code",
   "execution_count": null,
   "metadata": {},
   "outputs": [],
   "source": [
    "import cv2\n",
    "import IPython.display\n",
    "import PIL.Image\n",
    "import time\n",
    "from io import BytesIO\n",
    "import ipywidgets as widgets"
   ]
  },
  {
   "cell_type": "code",
   "execution_count": null,
   "metadata": {},
   "outputs": [],
   "source": [
    "def gstreamer_pipeline(\n",
    "    capture_width=1280,\n",
    "    capture_height=720,\n",
    "    display_width=1280,\n",
    "    display_height=720,\n",
    "    framerate=60,\n",
    "    flip_method=0,\n",
    "):\n",
    "    return (\n",
    "        \"nvarguscamerasrc ! \"\n",
    "        \"video/x-raw(memory:NVMM), \"\n",
    "        \"width=(int)%d, height=(int)%d, \"\n",
    "        \"format=(string)NV12, framerate=(fraction)%d/1 ! \"\n",
    "        \"nvvidconv flip-method=%d ! \"\n",
    "        \"video/x-raw, width=(int)%d, height=(int)%d, format=(string)BGRx ! \"\n",
    "        \"videoconvert ! \"\n",
    "        \"video/x-raw, format=(string)BGR ! appsink\"\n",
    "        % (\n",
    "            capture_width,\n",
    "            capture_height,\n",
    "            framerate,\n",
    "            flip_method,\n",
    "            display_width,\n",
    "            display_height,\n",
    "        )\n",
    "    )"
   ]
  },
  {
   "cell_type": "code",
   "execution_count": null,
   "metadata": {},
   "outputs": [],
   "source": [
    "#Use 'jpeg' instead of 'png' (~5 times faster)\n",
    "def show_array(a, display_id=None, fmt='jpeg'):\n",
    "    f = BytesIO()\n",
    "    PIL.Image.fromarray(a).save(f, fmt)\n",
    "    obj = IPython.display.Image(data=f.getvalue())\n",
    "    if display_id is not None:\n",
    "        IPython.display.update_display(obj, display_id=display_id)\n",
    "        return display_id\n",
    "    else:\n",
    "        return IPython.display.display(obj, display_id=True)"
   ]
  },
  {
   "cell_type": "code",
   "execution_count": null,
   "metadata": {},
   "outputs": [],
   "source": [
    "def show_camera():\n",
    "    # To flip the image, modify the flip_method parameter (0 and 2 are the most common)\n",
    "    print(gstreamer_pipeline(flip_method=0))\n",
    "    # Video capturing from OpenCV\n",
    "    video_capture = cv2.VideoCapture(gstreamer_pipeline(flip_method=2), cv2.CAP_GSTREAMER)\n",
    "    display_id = None\n",
    "    fps_output = widgets.Output()\n",
    "    IPython.display.display(fps_output)\n",
    "    if video_capture.isOpened():\n",
    "        try:\n",
    "            while True:\n",
    "                t1 = time.time()\n",
    "                \n",
    "                return_value, frame = video_capture.read()\n",
    "                \n",
    "                if not return_value:\n",
    "                    print(f\"return_value: {return_value}\")\n",
    "                    break\n",
    "                \n",
    "                # Convert the image from OpenCV BGR format to matplotlib RGB format\n",
    "                # to display the image\n",
    "                frame = cv2.cvtColor(frame, cv2.COLOR_BGR2RGB)\n",
    "                \n",
    "                if display_id is not None:\n",
    "                    show_array(frame, display_id)\n",
    "                else:\n",
    "                    display_handle = show_array(frame)\n",
    "                    display_id = display_handle.display_id\n",
    "                \n",
    "                t2 = time.time()\n",
    "\n",
    "                #ref: https://github.com/jupyter-widgets/ipywidgets/issues/1744#issuecomment-335179855\n",
    "                with fps_output:\n",
    "                    print(f\"display_id: {display_id}\")\n",
    "                    print(f\"{(1/(t2-t1)):.4f} FPS\")\n",
    "                    # Display the frame info until new frame is available\n",
    "                    IPython.display.clear_output(wait=True)\n",
    "        \n",
    "        except KeyboardInterrupt as e:\n",
    "            print(f\"KeyboardInterrupt\")\n",
    "        except Exception as e:\n",
    "            print(f\"Exception: {e}\")\n",
    "        finally:\n",
    "            # Release the Video Device\n",
    "            video_capture.release()\n",
    "            # Message to be displayed after releasing the device\n",
    "            print(\"Released Video Resource\")\n",
    "    else:\n",
    "        print(\"Unable to open camera\")"
   ]
  },
  {
   "cell_type": "code",
   "execution_count": null,
   "metadata": {},
   "outputs": [],
   "source": [
    "show_camera()"
   ]
  }
 ],
 "metadata": {
  "kernelspec": {
   "display_name": "Python 3",
   "language": "python",
   "name": "python3"
  },
  "language_info": {
   "codemirror_mode": {
    "name": "ipython",
    "version": 3
   },
   "file_extension": ".py",
   "mimetype": "text/x-python",
   "name": "python",
   "nbconvert_exporter": "python",
   "pygments_lexer": "ipython3",
   "version": "3.6.9"
  }
 },
 "nbformat": 4,
 "nbformat_minor": 4
}
